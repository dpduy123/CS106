{
  "nbformat": 4,
  "nbformat_minor": 0,
  "metadata": {
    "colab": {
      "provenance": [],
      "toc_visible": true
    },
    "kernelspec": {
      "name": "python3",
      "display_name": "Python 3"
    },
    "language_info": {
      "name": "python"
    }
  },
  "cells": [
    {
      "cell_type": "markdown",
      "source": [
        "Họ và tên: Đỗ Phương Duy\n",
        "\n",
        "MSSV: 23520362"
      ],
      "metadata": {
        "id": "9aYK3TMaM98G"
      }
    },
    {
      "cell_type": "code",
      "source": [
        "# !pip install gymnasium"
      ],
      "metadata": {
        "colab": {
          "base_uri": "https://localhost:8080/"
        },
        "id": "YczE55EXiYx9",
        "outputId": "001f76f5-26db-4be8-e2a7-750664a298d9"
      },
      "execution_count": 112,
      "outputs": [
        {
          "output_type": "stream",
          "name": "stdout",
          "text": [
            "Requirement already satisfied: gymnasium in /usr/local/lib/python3.11/dist-packages (1.1.1)\n",
            "Requirement already satisfied: numpy>=1.21.0 in /usr/local/lib/python3.11/dist-packages (from gymnasium) (2.0.2)\n",
            "Requirement already satisfied: cloudpickle>=1.2.0 in /usr/local/lib/python3.11/dist-packages (from gymnasium) (3.1.1)\n",
            "Requirement already satisfied: typing-extensions>=4.3.0 in /usr/local/lib/python3.11/dist-packages (from gymnasium) (4.13.2)\n",
            "Requirement already satisfied: farama-notifications>=0.0.1 in /usr/local/lib/python3.11/dist-packages (from gymnasium) (0.0.4)\n"
          ]
        }
      ]
    },
    {
      "cell_type": "code",
      "metadata": {
        "id": "yhSyhfEy4XSD"
      },
      "source": [
        "import gymnasium as gym\n",
        "import numpy as np\n",
        "import time\n",
        "from IPython import display\n",
        "from gymnasium.envs.toy_text.frozen_lake import FrozenLakeEnv\n",
        "from gymnasium.envs.toy_text.taxi import TaxiEnv"
      ],
      "execution_count": 256,
      "outputs": []
    },
    {
      "cell_type": "markdown",
      "source": [
        "# FrozenLake 4x4"
      ],
      "metadata": {
        "id": "nWht3qk1C2qb"
      }
    },
    {
      "cell_type": "code",
      "metadata": {
        "id": "kHf1dAVKAcZm"
      },
      "source": [
        "env = FrozenLakeEnv(desc=None, map_name=\"4x4\", render_mode=\"ansi\", is_slippery=True)\n",
        "# FrozenLake8x8\n",
        "# env = FrozenLakeEnv(desc=None, map_name=\"4x4\", render_mode=\"ansi\", is_slippery=True)\n",
        "# Taxi\n",
        "# env = TaxiEnv()"
      ],
      "execution_count": 286,
      "outputs": []
    },
    {
      "cell_type": "code",
      "metadata": {
        "colab": {
          "base_uri": "https://localhost:8080/"
        },
        "id": "5-6usoQHAmqh",
        "outputId": "a5969841-fe94-4fce-cf6d-eec1fcd3ee70"
      },
      "source": [
        "env.P[0][3] # Transition model"
      ],
      "execution_count": 287,
      "outputs": [
        {
          "output_type": "execute_result",
          "data": {
            "text/plain": [
              "[(0.3333333333333333, 1, 0.0, False),\n",
              " (0.3333333333333333, 0, 0.0, False),\n",
              " (0.3333333333333333, 0, 0.0, False)]"
            ]
          },
          "metadata": {},
          "execution_count": 287
        }
      ]
    },
    {
      "cell_type": "code",
      "metadata": {
        "id": "wh7Su0h0AqQz",
        "colab": {
          "base_uri": "https://localhost:8080/"
        },
        "outputId": "dd773371-f971-468c-aac0-5ffe5d37cefa"
      },
      "source": [
        "env.observation_space.n"
      ],
      "execution_count": 288,
      "outputs": [
        {
          "output_type": "execute_result",
          "data": {
            "text/plain": [
              "np.int64(16)"
            ]
          },
          "metadata": {},
          "execution_count": 288
        }
      ]
    },
    {
      "cell_type": "code",
      "metadata": {
        "id": "qZ68w5bpBScC",
        "colab": {
          "base_uri": "https://localhost:8080/"
        },
        "outputId": "9fbe6dfd-d627-4fc4-fb85-021209134ad6"
      },
      "source": [
        "env.action_space.n"
      ],
      "execution_count": 289,
      "outputs": [
        {
          "output_type": "execute_result",
          "data": {
            "text/plain": [
              "np.int64(4)"
            ]
          },
          "metadata": {},
          "execution_count": 289
        }
      ]
    },
    {
      "cell_type": "code",
      "metadata": {
        "id": "VWLnvY7VBvIZ"
      },
      "source": [
        "def play(env, policy, render=False):\n",
        "    state, _ = env.reset()\n",
        "    total_reward = 0\n",
        "    steps = 0\n",
        "    done = False\n",
        "    while not done:\n",
        "        action = policy[state]\n",
        "        next_state, reward, done, info, _ = env.step(action)\n",
        "        total_reward += reward\n",
        "        steps += 1\n",
        "        if render:\n",
        "            print(env.render())\n",
        "            time.sleep(0.5)\n",
        "            if not done:\n",
        "                display.clear_output(wait=True)\n",
        "        state = next_state\n",
        "\n",
        "    return (total_reward, steps)"
      ],
      "execution_count": 118,
      "outputs": []
    },
    {
      "cell_type": "code",
      "metadata": {
        "id": "fcuDDx6rC5YE",
        "colab": {
          "base_uri": "https://localhost:8080/"
        },
        "outputId": "f160e91a-061e-4de0-cc5d-2f906d8fa318"
      },
      "source": [
        "policy_0 = np.asarray([0, 0, 0, 0, 0, 0, 0, 0, 0, 0, 0, 0, 0, 0, 0, 0])\n",
        "play(env, policy_0)"
      ],
      "execution_count": 119,
      "outputs": [
        {
          "output_type": "execute_result",
          "data": {
            "text/plain": [
              "(0.0, 6)"
            ]
          },
          "metadata": {},
          "execution_count": 119
        }
      ]
    },
    {
      "cell_type": "code",
      "source": [
        "policy_0 = np.asarray([0, 0, 0, 0, 0, 0, 0, 0, 0, 0, 0, 0, 0, 0, 0, 0])\n",
        "play(env, policy_0, True)\n"
      ],
      "metadata": {
        "id": "BJ1CJNPhDGPA",
        "colab": {
          "base_uri": "https://localhost:8080/"
        },
        "outputId": "70f1a961-d1ed-46eb-acff-8056b9198a7d"
      },
      "execution_count": 120,
      "outputs": [
        {
          "output_type": "stream",
          "name": "stdout",
          "text": [
            "  (Left)\n",
            "SFFF\n",
            "FHFH\n",
            "FFFH\n",
            "\u001b[41mH\u001b[0mFFG\n",
            "\n"
          ]
        },
        {
          "output_type": "execute_result",
          "data": {
            "text/plain": [
              "(0.0, 27)"
            ]
          },
          "metadata": {},
          "execution_count": 120
        }
      ]
    },
    {
      "cell_type": "code",
      "metadata": {
        "id": "tdyjjtGZC9NX",
        "colab": {
          "base_uri": "https://localhost:8080/"
        },
        "outputId": "568389e6-da87-446d-86c1-2aeac13c9276"
      },
      "source": [
        "policy_1 = np.asarray([0, 1, 1, 3, 1, 0, 2, 0, 1, 1, 2, 2, 3, 3, 1, 0])\n",
        "play(env, policy_1, True)"
      ],
      "execution_count": 121,
      "outputs": [
        {
          "output_type": "stream",
          "name": "stdout",
          "text": [
            "  (Down)\n",
            "SFFF\n",
            "F\u001b[41mH\u001b[0mFH\n",
            "FFFH\n",
            "HFFG\n",
            "\n"
          ]
        },
        {
          "output_type": "execute_result",
          "data": {
            "text/plain": [
              "(0.0, 6)"
            ]
          },
          "metadata": {},
          "execution_count": 121
        }
      ]
    },
    {
      "cell_type": "code",
      "metadata": {
        "id": "tt0VhyMuDasc",
        "colab": {
          "base_uri": "https://localhost:8080/"
        },
        "outputId": "aa88e740-d49e-4262-8faa-6612a96f9b1f"
      },
      "source": [
        "policy_2 = np.array([1, 1, 1, 3, 0, 1, 2, 3, 1, 1, 2, 3, 2, 2, 1, 3])\n",
        "play(env, policy_2, True)"
      ],
      "execution_count": 122,
      "outputs": [
        {
          "output_type": "stream",
          "name": "stdout",
          "text": [
            "  (Down)\n",
            "SFFF\n",
            "FHFH\n",
            "FFFH\n",
            "HFF\u001b[41mG\u001b[0m\n",
            "\n"
          ]
        },
        {
          "output_type": "execute_result",
          "data": {
            "text/plain": [
              "(1.0, 13)"
            ]
          },
          "metadata": {},
          "execution_count": 122
        }
      ]
    },
    {
      "cell_type": "code",
      "metadata": {
        "id": "Hp6qhRFJDxWR",
        "colab": {
          "base_uri": "https://localhost:8080/"
        },
        "outputId": "74972a57-11b2-4dea-c6a7-278dc79c8793"
      },
      "source": [
        "policy_3 = np.array([0, 3, 0, 3, 0, 0, 0, 0, 3, 1, 0, 0, 0, 2, 1, 0])\n",
        "play(env, policy_3, True)"
      ],
      "execution_count": 123,
      "outputs": [
        {
          "output_type": "stream",
          "name": "stdout",
          "text": [
            "  (Down)\n",
            "SFFF\n",
            "FHFH\n",
            "FFFH\n",
            "HFF\u001b[41mG\u001b[0m\n",
            "\n"
          ]
        },
        {
          "output_type": "execute_result",
          "data": {
            "text/plain": [
              "(1.0, 86)"
            ]
          },
          "metadata": {},
          "execution_count": 123
        }
      ]
    },
    {
      "cell_type": "code",
      "metadata": {
        "id": "JU8Q1qMxD6Po"
      },
      "source": [
        "def play_multiple_times(env, policy, max_episodes):\n",
        "    success = 0\n",
        "    list_of_steps = []\n",
        "    for i in range(max_episodes):\n",
        "        total_reward, steps = play(env, policy)\n",
        "\n",
        "        if total_reward > 0:\n",
        "            success += 1\n",
        "            list_of_steps.append(steps)\n",
        "\n",
        "    print(f'Number of successes: {success}/{max_episodes}')\n",
        "    print(f'Average number of steps: {np.mean(list_of_steps)}')"
      ],
      "execution_count": 124,
      "outputs": []
    },
    {
      "cell_type": "code",
      "metadata": {
        "id": "G427z17PEmjQ",
        "colab": {
          "base_uri": "https://localhost:8080/"
        },
        "outputId": "4ef0b5ce-4e1c-4af4-bdb3-87607be29cb7"
      },
      "source": [
        "policy_0 = np.asarray([0, 0, 0, 0, 0, 0, 0, 0, 0, 0, 0, 0, 0, 0, 0, 0])\n",
        "play_multiple_times(env, policy_0, 1000)"
      ],
      "execution_count": 125,
      "outputs": [
        {
          "output_type": "stream",
          "name": "stdout",
          "text": [
            "Number of successes: 0/1000\n",
            "Average number of steps: nan\n"
          ]
        },
        {
          "output_type": "stream",
          "name": "stderr",
          "text": [
            "/usr/local/lib/python3.11/dist-packages/numpy/_core/fromnumeric.py:3596: RuntimeWarning: Mean of empty slice.\n",
            "  return _methods._mean(a, axis=axis, dtype=dtype,\n",
            "/usr/local/lib/python3.11/dist-packages/numpy/_core/_methods.py:138: RuntimeWarning: invalid value encountered in scalar divide\n",
            "  ret = ret.dtype.type(ret / rcount)\n"
          ]
        }
      ]
    },
    {
      "cell_type": "code",
      "metadata": {
        "id": "H1bkhaFdDmj_",
        "colab": {
          "base_uri": "https://localhost:8080/"
        },
        "outputId": "11dd6f66-c81b-4d4f-a01b-b5cc9cdcc159"
      },
      "source": [
        "policy_1 = np.asarray([0, 1, 1, 3, 1, 0, 2, 0, 1, 1, 2, 2, 3, 3, 1, 0])\n",
        "play_multiple_times(env, policy_1, 1000)"
      ],
      "execution_count": 126,
      "outputs": [
        {
          "output_type": "stream",
          "name": "stdout",
          "text": [
            "Number of successes: 44/1000\n",
            "Average number of steps: 11.454545454545455\n"
          ]
        }
      ]
    },
    {
      "cell_type": "code",
      "metadata": {
        "id": "2ZYhsb_VEtuR",
        "colab": {
          "base_uri": "https://localhost:8080/"
        },
        "outputId": "fe3f104b-2495-489a-e23d-576dda9c47b0"
      },
      "source": [
        "policy_2 = np.array([1, 1, 1, 3, 0, 1, 2, 3, 1, 1, 2, 3, 2, 2, 1, 3])\n",
        "play_multiple_times(env, policy_2, 1000)"
      ],
      "execution_count": 127,
      "outputs": [
        {
          "output_type": "stream",
          "name": "stdout",
          "text": [
            "Number of successes: 89/1000\n",
            "Average number of steps: 15.089887640449438\n"
          ]
        }
      ]
    },
    {
      "cell_type": "code",
      "metadata": {
        "id": "OvvHdMesEzTH",
        "colab": {
          "base_uri": "https://localhost:8080/"
        },
        "outputId": "2c4128c3-54a4-4e46-e495-9d24b49c823b"
      },
      "source": [
        "policy_3 = np.array([0, 3, 0, 3, 0, 0, 0, 0, 3, 1, 0, 0, 0, 2, 1, 0])\n",
        "play_multiple_times(env, policy_3, 1000)"
      ],
      "execution_count": 128,
      "outputs": [
        {
          "output_type": "stream",
          "name": "stdout",
          "text": [
            "Number of successes: 783/1000\n",
            "Average number of steps: 44.17369093231162\n"
          ]
        }
      ]
    },
    {
      "cell_type": "code",
      "metadata": {
        "id": "bSomNpxJE5lP"
      },
      "source": [
        "def policy_evaluation(env, policy, max_iters=500, gamma=0.9):\n",
        "    # Initialize the values of all states to be 0\n",
        "    v_values = np.zeros(env.observation_space.n)\n",
        "\n",
        "    for i in range(max_iters):\n",
        "        prev_v_values = np.copy(v_values)\n",
        "\n",
        "        # Update the value of each state\n",
        "        for state in range(env.observation_space.n):\n",
        "            action = policy[state]\n",
        "\n",
        "            # Compute the q-value of the action\n",
        "            q_value = 0\n",
        "            for prob, next_state, reward, done in env.P[state][action]:\n",
        "                q_value += prob * (reward + gamma * prev_v_values[next_state])\n",
        "\n",
        "            v_values[state] = q_value # update v-value\n",
        "\n",
        "        # Check convergence\n",
        "        if np.all(np.isclose(v_values, prev_v_values)):\n",
        "            print(f'Converged at {i}-th iteration.')\n",
        "            break\n",
        "\n",
        "    return v_values"
      ],
      "execution_count": 290,
      "outputs": []
    },
    {
      "cell_type": "code",
      "metadata": {
        "id": "A7IhqEOgGkQX",
        "colab": {
          "base_uri": "https://localhost:8080/"
        },
        "outputId": "3bddf1ba-d4de-4254-baf4-c62397d1d851"
      },
      "source": [
        "policy_0 = np.asarray([0, 0, 0, 0, 0, 0, 0, 0, 0, 0, 0, 0, 0, 0, 0, 0])\n",
        "v_values_0 = policy_evaluation(env, policy_0)\n",
        "print(v_values_0)"
      ],
      "execution_count": 130,
      "outputs": [
        {
          "output_type": "stream",
          "name": "stdout",
          "text": [
            "Converged at 0-th iteration.\n",
            "[0. 0. 0. 0. 0. 0. 0. 0. 0. 0. 0. 0. 0. 0. 0. 0.]\n"
          ]
        }
      ]
    },
    {
      "cell_type": "code",
      "metadata": {
        "id": "zMjJKI3GGrsN",
        "colab": {
          "base_uri": "https://localhost:8080/"
        },
        "outputId": "c10b86b4-b0a8-40c2-ffa5-0dcf6cfb6833"
      },
      "source": [
        "policy_1 = np.asarray([0, 1, 1, 3, 1, 0, 2, 0, 1, 1, 2, 2, 3, 3, 1, 0])\n",
        "v_values_1 = policy_evaluation(env, policy_1)\n",
        "print(v_values_1)"
      ],
      "execution_count": 131,
      "outputs": [
        {
          "output_type": "stream",
          "name": "stdout",
          "text": [
            "Converged at 48-th iteration.\n",
            "[0.01904157 0.01519815 0.03161906 0.02371389 0.02538879 0.\n",
            " 0.06648515 0.         0.05924054 0.13822794 0.18999823 0.\n",
            " 0.         0.21152109 0.56684236 0.        ]\n"
          ]
        }
      ]
    },
    {
      "cell_type": "code",
      "metadata": {
        "id": "H-26M77nEfcV",
        "colab": {
          "base_uri": "https://localhost:8080/"
        },
        "outputId": "013c4d9c-736f-43f6-afad-a8ed19ed3d6a"
      },
      "source": [
        "np.all(v_values_1 >= v_values_0)"
      ],
      "execution_count": 132,
      "outputs": [
        {
          "output_type": "execute_result",
          "data": {
            "text/plain": [
              "np.True_"
            ]
          },
          "metadata": {},
          "execution_count": 132
        }
      ]
    },
    {
      "cell_type": "code",
      "metadata": {
        "id": "l49O1N8QG0S2",
        "colab": {
          "base_uri": "https://localhost:8080/"
        },
        "outputId": "5882372b-6acc-4220-d83a-653b46df9cc3"
      },
      "source": [
        "policy_2 = np.array([1, 1, 1, 3, 0, 1, 2, 3, 1, 1, 2, 3, 2, 2, 1, 3])\n",
        "v_values_2 = policy_evaluation(env, policy_2)\n",
        "print(v_values_2)"
      ],
      "execution_count": 133,
      "outputs": [
        {
          "output_type": "stream",
          "name": "stdout",
          "text": [
            "Converged at 53-th iteration.\n",
            "[0.02889625 0.01951972 0.03616977 0.0271268  0.04790519 0.\n",
            " 0.07391985 0.         0.08288277 0.19339319 0.21022995 0.\n",
            " 0.         0.35153135 0.62684674 0.        ]\n"
          ]
        }
      ]
    },
    {
      "cell_type": "code",
      "metadata": {
        "id": "22pRvreGE3Yt",
        "colab": {
          "base_uri": "https://localhost:8080/"
        },
        "outputId": "6dde9705-07bf-4a55-d2bf-7329e7a8629b"
      },
      "source": [
        "np.all(v_values_2 >= v_values_1)"
      ],
      "execution_count": 134,
      "outputs": [
        {
          "output_type": "execute_result",
          "data": {
            "text/plain": [
              "np.True_"
            ]
          },
          "metadata": {},
          "execution_count": 134
        }
      ]
    },
    {
      "cell_type": "code",
      "metadata": {
        "id": "BTYYFq6BEXDd",
        "colab": {
          "base_uri": "https://localhost:8080/"
        },
        "outputId": "5f828ece-6f03-4625-9125-3cf4e4ff229d"
      },
      "source": [
        "policy_3 = np.array([0, 3, 0, 3, 0, 0, 0, 0, 3, 1, 0, 0, 0, 2, 1, 0])\n",
        "v_values_3 = policy_evaluation(env, policy_3)\n",
        "print(v_values_3)"
      ],
      "execution_count": 135,
      "outputs": [
        {
          "output_type": "stream",
          "name": "stdout",
          "text": [
            "Converged at 80-th iteration.\n",
            "[0.06888666 0.06141097 0.07440714 0.05580443 0.09185068 0.\n",
            " 0.11220679 0.         0.14543323 0.24749485 0.29961611 0.\n",
            " 0.         0.37993438 0.63901935 0.        ]\n"
          ]
        }
      ]
    },
    {
      "cell_type": "code",
      "metadata": {
        "id": "zcEfU3NYE7xN",
        "colab": {
          "base_uri": "https://localhost:8080/"
        },
        "outputId": "5eb67975-dffd-4e19-a9df-e884f910b939"
      },
      "source": [
        "np.all(v_values_3 >= v_values_2)"
      ],
      "execution_count": 136,
      "outputs": [
        {
          "output_type": "execute_result",
          "data": {
            "text/plain": [
              "np.True_"
            ]
          },
          "metadata": {},
          "execution_count": 136
        }
      ]
    },
    {
      "cell_type": "code",
      "metadata": {
        "id": "uh4akjMSHJBF"
      },
      "source": [
        "def value_iteration(env, max_iters=500, gamma=0.9):\n",
        "    # initialize\n",
        "    v_values = np.zeros(env.observation_space.n)\n",
        "\n",
        "    for i in range(max_iters):\n",
        "        prev_v_values = np.copy(v_values)\n",
        "\n",
        "        # update the v-value for each state\n",
        "        for state in range(env.observation_space.n):\n",
        "            q_values = []\n",
        "\n",
        "            # compute the q-value for each action that we can perform at the state\n",
        "            for action in range(env.action_space.n):\n",
        "                q_value = 0\n",
        "                # loop through each possible outcome\n",
        "                for prob, next_state, reward, done in env.P[state][action]:\n",
        "                    q_value += prob * (reward + gamma * prev_v_values[next_state])\n",
        "\n",
        "                q_values.append(q_value)\n",
        "\n",
        "            # select the max q-values\n",
        "            best_action = np.argmax(q_values)\n",
        "            v_values[state] = q_values[best_action]\n",
        "\n",
        "        # check convergence\n",
        "        if np.all(np.isclose(v_values, prev_v_values)):\n",
        "            print(f'Converged at {i}-th iteration.')\n",
        "            break\n",
        "\n",
        "    return v_values"
      ],
      "execution_count": 291,
      "outputs": []
    },
    {
      "cell_type": "code",
      "metadata": {
        "id": "r8xAljw7VuMP",
        "colab": {
          "base_uri": "https://localhost:8080/"
        },
        "outputId": "53fc219b-5201-4d2f-c239-b52065d36554"
      },
      "source": [
        "start_time = time.time()\n",
        "optimal_v_values = value_iteration(env, max_iters=500, gamma=0.9)\n",
        "end_time = time.time()"
      ],
      "execution_count": 292,
      "outputs": [
        {
          "output_type": "stream",
          "name": "stdout",
          "text": [
            "Converged at 79-th iteration.\n"
          ]
        }
      ]
    },
    {
      "cell_type": "code",
      "metadata": {
        "id": "i7g9VA3lV2WW",
        "colab": {
          "base_uri": "https://localhost:8080/"
        },
        "outputId": "6038e2a4-685f-4147-faca-0eed2d58b608"
      },
      "source": [
        "optimal_v_values"
      ],
      "execution_count": 293,
      "outputs": [
        {
          "output_type": "execute_result",
          "data": {
            "text/plain": [
              "array([0.06888615, 0.06141054, 0.07440682, 0.05580409, 0.09185022,\n",
              "       0.        , 0.11220663, 0.        , 0.14543286, 0.2474946 ,\n",
              "       0.29961593, 0.        , 0.        , 0.3799342 , 0.63901926,\n",
              "       0.        ])"
            ]
          },
          "metadata": {},
          "execution_count": 293
        }
      ]
    },
    {
      "cell_type": "code",
      "source": [
        "print(f\"Value Iteration took {end_time - start_time:.4f} seconds\")\n"
      ],
      "metadata": {
        "colab": {
          "base_uri": "https://localhost:8080/"
        },
        "id": "Bv5kvjNW_QU7",
        "outputId": "5183ca50-c80a-406a-a54c-acff4e40f1e9"
      },
      "execution_count": 294,
      "outputs": [
        {
          "output_type": "stream",
          "name": "stdout",
          "text": [
            "Value Iteration took 0.0250 seconds\n"
          ]
        }
      ]
    },
    {
      "cell_type": "code",
      "metadata": {
        "id": "jb0an7gaV39e"
      },
      "source": [
        "def policy_extraction(env, v_values, gamma=0.9):\n",
        "    # initialize\n",
        "    policy = np.zeros(env.observation_space.n, dtype=np.int32)\n",
        "\n",
        "    # loop through each state in the environment\n",
        "    for state in range(env.observation_space.n):\n",
        "        q_values = []\n",
        "        # loop through each action\n",
        "        for action in range(env.action_space.n):\n",
        "            q_value = 0\n",
        "            # loop each possible outcome\n",
        "            for prob, next_state, reward, done in env.P[state][action]:\n",
        "                q_value += prob * (reward + gamma * v_values[next_state])\n",
        "\n",
        "            q_values.append(q_value)\n",
        "\n",
        "        # select the best action\n",
        "        best_action = np.argmax(q_values)\n",
        "        policy[state] = best_action\n",
        "\n",
        "    return policy"
      ],
      "execution_count": 295,
      "outputs": []
    },
    {
      "cell_type": "code",
      "source": [
        "start_time = time.time()"
      ],
      "metadata": {
        "id": "hKp-pPSvGDbW"
      },
      "execution_count": 187,
      "outputs": []
    },
    {
      "cell_type": "code",
      "metadata": {
        "id": "7TGCF4G7XErH"
      },
      "source": [
        "optimal_policy = policy_extraction(env, optimal_v_values, gamma=0.9)"
      ],
      "execution_count": 188,
      "outputs": []
    },
    {
      "cell_type": "code",
      "source": [
        "optimal_policy"
      ],
      "metadata": {
        "id": "qkHYtfm4qikV",
        "colab": {
          "base_uri": "https://localhost:8080/"
        },
        "outputId": "854224ad-606c-4bea-934c-ea54c9f9a26f"
      },
      "execution_count": 189,
      "outputs": [
        {
          "output_type": "execute_result",
          "data": {
            "text/plain": [
              "array([0, 3, 0, 3, 0, 0, 0, 0, 3, 1, 0, 0, 0, 2, 1, 0], dtype=int32)"
            ]
          },
          "metadata": {},
          "execution_count": 189
        }
      ]
    },
    {
      "cell_type": "code",
      "source": [
        "end_time = time.time()"
      ],
      "metadata": {
        "id": "8WUU1lWBGFc1"
      },
      "execution_count": 190,
      "outputs": []
    },
    {
      "cell_type": "code",
      "source": [
        "play(env, optimal_policy, True)"
      ],
      "metadata": {
        "id": "1Ww12Uh5qCUb",
        "colab": {
          "base_uri": "https://localhost:8080/"
        },
        "outputId": "dc300c06-0b66-4375-958f-82a1d8ec56dd"
      },
      "execution_count": 146,
      "outputs": [
        {
          "output_type": "stream",
          "name": "stdout",
          "text": [
            "  (Down)\n",
            "SFFF\n",
            "FHFH\n",
            "FFFH\n",
            "HFF\u001b[41mG\u001b[0m\n",
            "\n"
          ]
        },
        {
          "output_type": "execute_result",
          "data": {
            "text/plain": [
              "(1.0, 88)"
            ]
          },
          "metadata": {},
          "execution_count": 146
        }
      ]
    },
    {
      "cell_type": "code",
      "metadata": {
        "id": "5-m4ZqWZXKqG",
        "colab": {
          "base_uri": "https://localhost:8080/"
        },
        "outputId": "e494fb6d-a561-4e72-f3be-c5d103f3ec80"
      },
      "source": [
        "play_multiple_times(env, optimal_policy, 1000)"
      ],
      "execution_count": 147,
      "outputs": [
        {
          "output_type": "stream",
          "name": "stdout",
          "text": [
            "Number of successes: 773/1000\n",
            "Average number of steps: 45.92496765847348\n"
          ]
        }
      ]
    },
    {
      "cell_type": "code",
      "source": [
        "import numpy as np\n",
        "\n",
        "def policy_iteration(env, max_iters=500, gamma=0.9, tol=1e-6):\n",
        "    # Khởi tạo chính sách ngẫu nhiên (hành động 0 cho mọi trạng thái)\n",
        "    policy = np.zeros(env.observation_space.n, dtype=int)\n",
        "    v_values = np.zeros(env.observation_space.n)\n",
        "\n",
        "    for i in range(max_iters):\n",
        "        # 1. Policy Evaluation: tính giá trị v cho chính sách hiện tại\n",
        "        v_values = policy_evaluation(env, policy, max_iters=1000, gamma=gamma)\n",
        "\n",
        "        # 2. Policy Improvement: cập nhật chính sách dựa trên v_values mới\n",
        "        policy_stable = True\n",
        "\n",
        "        for state in range(env.observation_space.n):\n",
        "            old_action = policy[state]\n",
        "            q_values = []\n",
        "\n",
        "            for action in range(env.action_space.n):\n",
        "                q_value = 0\n",
        "                for prob, next_state, reward, done in env.P[state][action]:\n",
        "                    q_value += prob * (reward + gamma * v_values[next_state])\n",
        "                q_values.append(q_value)\n",
        "\n",
        "            best_action = np.argmax(q_values)\n",
        "            policy[state] = best_action\n",
        "\n",
        "            if old_action != best_action:\n",
        "                policy_stable = False\n",
        "\n",
        "        if policy_stable:\n",
        "            print(f'Policy iteration converged at iteration {i}.')\n",
        "            break\n",
        "\n",
        "    return policy, v_values\n"
      ],
      "metadata": {
        "id": "nwne9P1E6fiJ"
      },
      "execution_count": 296,
      "outputs": []
    },
    {
      "cell_type": "code",
      "source": [
        "start_time = time.time()\n",
        "optimal_policy, optimal_p_values = policy_iteration(env, max_iters=500, gamma=0.9)\n",
        "end_time = time.time()"
      ],
      "metadata": {
        "colab": {
          "base_uri": "https://localhost:8080/"
        },
        "id": "8ZnTGKG-GRaX",
        "outputId": "f967d358-66da-437e-bfcb-3d1b085cb3a8"
      },
      "execution_count": 297,
      "outputs": [
        {
          "output_type": "stream",
          "name": "stdout",
          "text": [
            "Converged at 0-th iteration.\n",
            "Converged at 23-th iteration.\n",
            "Converged at 59-th iteration.\n",
            "Converged at 62-th iteration.\n",
            "Converged at 79-th iteration.\n",
            "Converged at 80-th iteration.\n",
            "Policy iteration converged at iteration 5.\n"
          ]
        }
      ]
    },
    {
      "cell_type": "code",
      "source": [
        "print(f\"Policy Iteration took {end_time - start_time:.4f} seconds\")\n"
      ],
      "metadata": {
        "colab": {
          "base_uri": "https://localhost:8080/"
        },
        "id": "ikq6PrzCGQgX",
        "outputId": "a8700cee-01c7-4d0c-9ed6-b550079bdfeb"
      },
      "execution_count": 298,
      "outputs": [
        {
          "output_type": "stream",
          "name": "stdout",
          "text": [
            "Policy Iteration took 0.0174 seconds\n"
          ]
        }
      ]
    },
    {
      "cell_type": "code",
      "source": [
        "optimal_policy"
      ],
      "metadata": {
        "colab": {
          "base_uri": "https://localhost:8080/"
        },
        "id": "FBN8YzZzGkZi",
        "outputId": "e37d5a7e-9040-4585-c035-1970090036f9"
      },
      "execution_count": 239,
      "outputs": [
        {
          "output_type": "execute_result",
          "data": {
            "text/plain": [
              "array([0, 3, 0, 3, 0, 0, 0, 0, 3, 1, 0, 0, 0, 2, 1, 0])"
            ]
          },
          "metadata": {},
          "execution_count": 239
        }
      ]
    },
    {
      "cell_type": "code",
      "source": [
        "optimal_p_values"
      ],
      "metadata": {
        "colab": {
          "base_uri": "https://localhost:8080/"
        },
        "id": "BnxjkuATGipI",
        "outputId": "5fe73b74-adce-4db1-dd2b-10191b156109"
      },
      "execution_count": 240,
      "outputs": [
        {
          "output_type": "execute_result",
          "data": {
            "text/plain": [
              "array([0.06888666, 0.06141097, 0.07440714, 0.05580443, 0.09185068,\n",
              "       0.        , 0.11220679, 0.        , 0.14543323, 0.24749485,\n",
              "       0.29961611, 0.        , 0.        , 0.37993438, 0.63901935,\n",
              "       0.        ])"
            ]
          },
          "metadata": {},
          "execution_count": 240
        }
      ]
    },
    {
      "cell_type": "code",
      "source": [
        "play(env, optimal_policy)"
      ],
      "metadata": {
        "colab": {
          "base_uri": "https://localhost:8080/"
        },
        "id": "FM3qa6u0FCCg",
        "outputId": "deeb89a8-2b16-4087-c2ca-a1dada704812"
      },
      "execution_count": 241,
      "outputs": [
        {
          "output_type": "execute_result",
          "data": {
            "text/plain": [
              "(1.0, 77)"
            ]
          },
          "metadata": {},
          "execution_count": 241
        }
      ]
    },
    {
      "cell_type": "code",
      "source": [
        "play_multiple_times(env, optimal_policy, 1000)"
      ],
      "metadata": {
        "colab": {
          "base_uri": "https://localhost:8080/"
        },
        "id": "kftPS_I8Fkqu",
        "outputId": "1351f24f-a0d0-4fb0-df7e-95e57f337819"
      },
      "execution_count": 242,
      "outputs": [
        {
          "output_type": "stream",
          "name": "stdout",
          "text": [
            "Number of successes: 757/1000\n",
            "Average number of steps: 43.849405548216644\n"
          ]
        }
      ]
    },
    {
      "cell_type": "markdown",
      "source": [
        "## Nhận Xét"
      ],
      "metadata": {
        "id": "FNilgHG1J3h1"
      }
    },
    {
      "cell_type": "markdown",
      "source": [
        "**Thời gian chạy:**\n",
        "\n",
        "Value Iteration: 0.0250 seconds\n",
        "\n",
        "Policy Iteration: 0.0174 seconds\n",
        "\n",
        "**Nhận xét**\n",
        "\n",
        "Ở toy games này thuật toán Policy Iteration chạy nhanh hơn vì có không gian trạng thái nhỏ và 4 hành động cho mỗi trạng thái -> Điều này làm cho bước policy evaluation trong Policy Iteration rất nhanh, vì việc tính toán giá trị cho tất cả trạng thái không tốn nhiều tài nguyên.\n",
        "\n",
        "Vì môi trường nhỏ, bước đánh giá chính sách (policy evaluation) trong Policy Iteration không mất nhiều thời gian, nên tổng thời gian hội tụ thấp hơn."
      ],
      "metadata": {
        "id": "FlXTgb1RKPDQ"
      }
    },
    {
      "cell_type": "markdown",
      "source": [
        "# FrozenLake8x8-v1\n"
      ],
      "metadata": {
        "id": "Dtf36TDUC_vQ"
      }
    },
    {
      "cell_type": "code",
      "source": [
        "#FrozenLake8x8\n",
        "env = FrozenLakeEnv(desc=None, map_name=\"8x8\", render_mode=\"ansi\", is_slippery=True)"
      ],
      "metadata": {
        "id": "Rcj3v6-1BXoP"
      },
      "execution_count": 307,
      "outputs": []
    },
    {
      "cell_type": "code",
      "source": [
        "env.observation_space.n"
      ],
      "metadata": {
        "colab": {
          "base_uri": "https://localhost:8080/"
        },
        "id": "VfKPNsDqJoXy",
        "outputId": "adca2fe7-986b-4685-815d-d7cb6d9ad112"
      },
      "execution_count": 308,
      "outputs": [
        {
          "output_type": "execute_result",
          "data": {
            "text/plain": [
              "np.int64(64)"
            ]
          },
          "metadata": {},
          "execution_count": 308
        }
      ]
    },
    {
      "cell_type": "code",
      "source": [
        "env.action_space.n"
      ],
      "metadata": {
        "colab": {
          "base_uri": "https://localhost:8080/"
        },
        "id": "18RGIYAMJvX7",
        "outputId": "de476812-a9f9-49e8-b9e8-8a3bcc1d1e82"
      },
      "execution_count": 309,
      "outputs": [
        {
          "output_type": "execute_result",
          "data": {
            "text/plain": [
              "np.int64(4)"
            ]
          },
          "metadata": {},
          "execution_count": 309
        }
      ]
    },
    {
      "cell_type": "code",
      "source": [
        "env.P[0][3] # Transition model"
      ],
      "metadata": {
        "colab": {
          "base_uri": "https://localhost:8080/"
        },
        "id": "vk2hUXiPBwTF",
        "outputId": "9a1b681d-1d71-4d61-d12f-2c1a4c543e15"
      },
      "execution_count": 310,
      "outputs": [
        {
          "output_type": "execute_result",
          "data": {
            "text/plain": [
              "[(0.3333333333333333, 1, 0.0, False),\n",
              " (0.3333333333333333, 0, 0.0, False),\n",
              " (0.3333333333333333, 0, 0.0, False)]"
            ]
          },
          "metadata": {},
          "execution_count": 310
        }
      ]
    },
    {
      "cell_type": "code",
      "source": [
        "#Value_Iteration\n",
        "start_time = time.time()\n",
        "optimal_v_values = value_iteration(env, max_iters=500, gamma=0.9)\n",
        "optimal_v_values\n",
        "end_time = time.time()"
      ],
      "metadata": {
        "colab": {
          "base_uri": "https://localhost:8080/"
        },
        "id": "DfePE8iwCBCP",
        "outputId": "bd5d1b3f-6ce1-4f43-9d5a-18e89387ca13"
      },
      "execution_count": 311,
      "outputs": [
        {
          "output_type": "stream",
          "name": "stdout",
          "text": [
            "Converged at 117-th iteration.\n"
          ]
        }
      ]
    },
    {
      "cell_type": "code",
      "source": [
        "print(f\"Value Iteration took {end_time - start_time:.4f} seconds\")\n"
      ],
      "metadata": {
        "colab": {
          "base_uri": "https://localhost:8080/"
        },
        "id": "P9dH8STRCkg1",
        "outputId": "1bc17853-8fab-4103-a4b0-735983d3b665"
      },
      "execution_count": 312,
      "outputs": [
        {
          "output_type": "stream",
          "name": "stdout",
          "text": [
            "Value Iteration took 0.1068 seconds\n"
          ]
        }
      ]
    },
    {
      "cell_type": "code",
      "source": [
        "#Policy_Iteration\n",
        "start_time = time.time()\n",
        "optimal_p_values = policy_iteration(env, max_iters=500, gamma=0.9)\n",
        "optimal_p_values\n",
        "end_time = time.time()"
      ],
      "metadata": {
        "colab": {
          "base_uri": "https://localhost:8080/"
        },
        "id": "mOGilPf1CpuI",
        "outputId": "742be2ce-15ed-489e-ba9f-046428d4138e"
      },
      "execution_count": 313,
      "outputs": [
        {
          "output_type": "stream",
          "name": "stdout",
          "text": [
            "Converged at 27-th iteration.\n",
            "Converged at 91-th iteration.\n",
            "Converged at 92-th iteration.\n",
            "Converged at 86-th iteration.\n",
            "Converged at 90-th iteration.\n",
            "Converged at 92-th iteration.\n",
            "Converged at 95-th iteration.\n",
            "Converged at 100-th iteration.\n",
            "Converged at 112-th iteration.\n",
            "Converged at 117-th iteration.\n",
            "Policy iteration converged at iteration 9.\n"
          ]
        }
      ]
    },
    {
      "cell_type": "code",
      "source": [
        "print(f\"Policy Iteration took {end_time - start_time:.4f} seconds\")\n"
      ],
      "metadata": {
        "colab": {
          "base_uri": "https://localhost:8080/"
        },
        "id": "JsGxN6aWCyo0",
        "outputId": "71433c17-4cf1-44f7-eac5-25be334f7a75"
      },
      "execution_count": 314,
      "outputs": [
        {
          "output_type": "stream",
          "name": "stdout",
          "text": [
            "Policy Iteration took 0.1402 seconds\n"
          ]
        }
      ]
    },
    {
      "cell_type": "markdown",
      "source": [
        "## Nhận xét"
      ],
      "metadata": {
        "id": "DLk6UkDiJ8YY"
      }
    },
    {
      "cell_type": "markdown",
      "source": [
        "**Thời gian chạy:**\n",
        "\n",
        "Value Iteration: 0.1068 seconds\n",
        "\n",
        "Policy Iteration: 0.1402 seconds\n",
        "\n",
        "**Nhận xét**\n",
        "\n",
        "Ở toy games này thuật toán Value Iteration chạy nhanh hơn không đáng kể. Vì với 64 trạng thái, mỗi trạng thái có 4 hành động, không gian chưa quá lớn để bước policy evaluation của Policy Iteration trở nên quá chậm.\n",
        "\n",
        "Value Iteration cần nhiều vòng hơn nhưng mỗi vòng đơn giản, Policy Iteration cần ít vòng hơn nhưng mỗi vòng tốn công hơn. Ở kích thước này, số vòng và công việc mỗi vòng cân bằng gần bằng, nên thời gian chạy hai thuật toán khá sát nhau.\n",
        "\n"
      ],
      "metadata": {
        "id": "FSXSac26LQ02"
      }
    },
    {
      "cell_type": "markdown",
      "source": [
        "# Taxi-v3"
      ],
      "metadata": {
        "id": "DsYDEd6sDPjX"
      }
    },
    {
      "cell_type": "code",
      "source": [
        "#Taxi\n",
        "env = TaxiEnv()"
      ],
      "metadata": {
        "id": "ibB09tqEDQ7Q"
      },
      "execution_count": 315,
      "outputs": []
    },
    {
      "cell_type": "code",
      "source": [
        "env.observation_space.n"
      ],
      "metadata": {
        "colab": {
          "base_uri": "https://localhost:8080/"
        },
        "id": "ous4cwATJX__",
        "outputId": "ff5161cd-d1b6-4ecb-f88c-21aa8df8f5e8"
      },
      "execution_count": 316,
      "outputs": [
        {
          "output_type": "execute_result",
          "data": {
            "text/plain": [
              "np.int64(500)"
            ]
          },
          "metadata": {},
          "execution_count": 316
        }
      ]
    },
    {
      "cell_type": "code",
      "source": [
        "env.action_space.n"
      ],
      "metadata": {
        "colab": {
          "base_uri": "https://localhost:8080/"
        },
        "id": "D0mbWkBUJzx9",
        "outputId": "184fe9f8-5228-4844-e4f9-c82d3ead314b"
      },
      "execution_count": 317,
      "outputs": [
        {
          "output_type": "execute_result",
          "data": {
            "text/plain": [
              "np.int64(6)"
            ]
          },
          "metadata": {},
          "execution_count": 317
        }
      ]
    },
    {
      "cell_type": "code",
      "source": [
        "#Value_Iteration\n",
        "start_time = time.time()\n",
        "optimal_v_values = value_iteration(env, max_iters=500, gamma=0.9)\n",
        "end_time = time.time()"
      ],
      "metadata": {
        "colab": {
          "base_uri": "https://localhost:8080/"
        },
        "id": "aBF7D5utHiiS",
        "outputId": "8d97ee6f-97fd-4aca-94a0-0f663c553855"
      },
      "execution_count": 318,
      "outputs": [
        {
          "output_type": "stream",
          "name": "stdout",
          "text": [
            "Converged at 116-th iteration.\n"
          ]
        }
      ]
    },
    {
      "cell_type": "code",
      "source": [
        "optimal_v_values"
      ],
      "metadata": {
        "colab": {
          "base_uri": "https://localhost:8080/"
        },
        "id": "lwbZE2M1Hocw",
        "outputId": "fc7796b3-b841-4996-84a5-9609202caedd"
      },
      "execution_count": 319,
      "outputs": [
        {
          "output_type": "execute_result",
          "data": {
            "text/plain": [
              "array([ 89.47323891,  32.81971401,  55.26423891,  37.57755845,\n",
              "         8.43222921,  32.81971401,   8.43222921,  15.28447953,\n",
              "        32.81971401,  18.09386122,  55.26423891,  21.2154998 ,\n",
              "        12.75594298,  18.09386122,  12.75594298,  37.57755845,\n",
              "       100.52591945,  37.57755845,  62.51591945,  42.86394891,\n",
              "        79.52591945,  28.53774704,  48.73781945,  32.81971401,\n",
              "        10.48035311,  37.57755845,  10.48035311,  18.09386122,\n",
              "        28.53774704,  15.28447953,  48.73781945,  18.09386122,\n",
              "        15.28447953,  21.2154998 ,  15.28447953,  42.86394891,\n",
              "        89.47323891,  42.86394891,  55.26423891,  48.73781945,\n",
              "        42.86394891,  12.75594298,  24.68388374,  15.28447953,\n",
              "        24.68388374,  70.57323891,  24.68388374,  37.57755845,\n",
              "        24.68388374,  12.75594298,  42.86394891,  15.28447953,\n",
              "        18.09386122,  24.68388374,  18.09386122,  48.73781945,\n",
              "        48.73781945,  79.52591945,  48.73781945,  55.26423891,\n",
              "        37.57755845,  10.48035311,  21.2154998 ,  12.75594298,\n",
              "        28.53774704,  79.52591945,  28.53774704,  42.86394891,\n",
              "        21.2154998 ,  10.48035311,  37.57755845,  12.75594298,\n",
              "        21.2154998 ,  28.53774704,  21.2154998 ,  55.26423891,\n",
              "        42.86394891,  89.47323891,  42.86394891,  62.51591945,\n",
              "        32.81971401,   8.43222921,  18.09386122,  10.48035311,\n",
              "        32.81971401,  89.47323891,  32.81971401,  48.73781945,\n",
              "        18.09386122,   8.43222921,  32.81971401,  10.48035311,\n",
              "        18.09386122,  24.68388374,  18.09386122,  48.73781945,\n",
              "        37.57755845, 100.52591945,  37.57755845,  55.26423891,\n",
              "        79.52591945,  28.53774704,  48.73781945,  32.81971401,\n",
              "        10.48035311,  37.57755845,  10.48035311,  18.09386122,\n",
              "        37.57755845,  21.2154998 ,  62.51591945,  24.68388374,\n",
              "        15.28447953,  21.2154998 ,  15.28447953,  42.86394891,\n",
              "        89.47323891,  42.86394891,  70.57323891,  48.73781945,\n",
              "        70.57323891,  24.68388374,  42.86394891,  28.53774704,\n",
              "        12.75594298,  42.86394891,  12.75594298,  21.2154998 ,\n",
              "        32.81971401,  18.09386122,  55.26423891,  21.2154998 ,\n",
              "        18.09386122,  24.68388374,  18.09386122,  48.73781945,\n",
              "        79.52591945,  48.73781945,  62.51591945,  55.26423891,\n",
              "        48.73781945,  15.28447953,  28.53774704,  18.09386122,\n",
              "        21.2154998 ,  62.51591945,  21.2154998 ,  32.81971401,\n",
              "        28.53774704,  15.28447953,  48.73781945,  18.09386122,\n",
              "        21.2154998 ,  28.53774704,  21.2154998 ,  55.26423891,\n",
              "        55.26423891,  70.57323891,  55.26423891,  62.51591945,\n",
              "        42.86394891,  12.75594298,  24.68388374,  15.28447953,\n",
              "        24.68388374,  70.57323891,  24.68388374,  37.57755845,\n",
              "        24.68388374,  12.75594298,  42.86394891,  15.28447953,\n",
              "        24.68388374,  32.81971401,  24.68388374,  62.51591945,\n",
              "        48.73781945,  79.52591945,  48.73781945,  70.57323891,\n",
              "        37.57755845,  10.48035311,  21.2154998 ,  12.75594298,\n",
              "        28.53774704,  79.52591945,  28.53774704,  42.86394891,\n",
              "        21.2154998 ,  10.48035311,  37.57755845,  12.75594298,\n",
              "        21.2154998 ,  28.53774704,  21.2154998 ,  55.26423891,\n",
              "        42.86394891,  89.47323891,  42.86394891,  62.51591945,\n",
              "        70.57323891,  24.68388374,  42.86394891,  28.53774704,\n",
              "        12.75594298,  42.86394891,  12.75594298,  21.2154998 ,\n",
              "        42.86394891,  24.68388374,  70.57323891,  28.53774704,\n",
              "        18.09386122,  24.68388374,  18.09386122,  48.73781945,\n",
              "        79.52591945,  48.73781945,  79.52591945,  55.26423891,\n",
              "        62.51591945,  21.2154998 ,  37.57755845,  24.68388374,\n",
              "        15.28447953,  48.73781945,  15.28447953,  24.68388374,\n",
              "        37.57755845,  21.2154998 ,  62.51591945,  24.68388374,\n",
              "        21.2154998 ,  28.53774704,  21.2154998 ,  55.26423891,\n",
              "        70.57323891,  55.26423891,  70.57323891,  62.51591945,\n",
              "        55.26423891,  18.09386122,  32.81971401,  21.2154998 ,\n",
              "        18.09386122,  55.26423891,  18.09386122,  28.53774704,\n",
              "        32.81971401,  18.09386122,  55.26423891,  21.2154998 ,\n",
              "        24.68388374,  32.81971401,  24.68388374,  62.51591945,\n",
              "        62.51591945,  62.51591945,  62.51591945,  70.57323891,\n",
              "        48.73781945,  15.28447953,  28.53774704,  18.09386122,\n",
              "        21.2154998 ,  62.51591945,  21.2154998 ,  32.81971401,\n",
              "        28.53774704,  15.28447953,  48.73781945,  18.09386122,\n",
              "        28.53774704,  37.57755845,  28.53774704,  70.57323891,\n",
              "        55.26423891,  70.57323891,  55.26423891,  79.52591945,\n",
              "        42.86394891,  12.75594298,  24.68388374,  15.28447953,\n",
              "        24.68388374,  70.57323891,  24.68388374,  37.57755845,\n",
              "        24.68388374,  12.75594298,  42.86394891,  15.28447953,\n",
              "        24.68388374,  32.81971401,  24.68388374,  62.51591945,\n",
              "        48.73781945,  79.52591945,  48.73781945,  70.57323891,\n",
              "        62.51591945,  21.2154998 ,  37.57755845,  24.68388374,\n",
              "        10.48035311,  37.57755845,  10.48035311,  18.09386122,\n",
              "        48.73781945,  28.53774704,  79.52591945,  32.81971401,\n",
              "        15.28447953,  21.2154998 ,  15.28447953,  42.86394891,\n",
              "        70.57323891,  42.86394891,  89.47323891,  48.73781945,\n",
              "        55.26423891,  18.09386122,  32.81971401,  21.2154998 ,\n",
              "        12.75594298,  42.86394891,  12.75594298,  21.2154998 ,\n",
              "        32.81971401,  18.09386122,  55.26423891,  21.2154998 ,\n",
              "        18.09386122,  24.68388374,  18.09386122,  48.73781945,\n",
              "        62.51591945,  48.73781945,  62.51591945,  55.26423891,\n",
              "        48.73781945,  15.28447953,  28.53774704,  18.09386122,\n",
              "        15.28447953,  48.73781945,  15.28447953,  24.68388374,\n",
              "        28.53774704,  15.28447953,  48.73781945,  18.09386122,\n",
              "        21.2154998 ,  28.53774704,  21.2154998 ,  55.26423891,\n",
              "        55.26423891,  55.26423891,  55.26423891,  62.51591945,\n",
              "        42.86394891,  12.75594298,  24.68388374,  15.28447953,\n",
              "        18.09386122,  55.26423891,  18.09386122,  28.53774704,\n",
              "        24.68388374,  12.75594298,  42.86394891,  15.28447953,\n",
              "        32.81971401,  42.86394891,  32.81971401,  79.52591945,\n",
              "        48.73781945,  62.51591945,  48.73781945,  89.47323891,\n",
              "        37.57755845,  10.48035311,  21.2154998 ,  12.75594298,\n",
              "        21.2154998 ,  62.51591945,  21.2154998 ,  32.81971401,\n",
              "        21.2154998 ,  10.48035311,  37.57755845,  12.75594298,\n",
              "        28.53774704,  37.57755845,  28.53774704,  70.57323891,\n",
              "        42.86394891,  70.57323891,  42.86394891,  79.52591945,\n",
              "        55.26423891,  18.09386122,  32.81971401,  21.2154998 ,\n",
              "         8.43222921,  32.81971401,   8.43222921,  15.28447953,\n",
              "        55.26423891,  32.81971401,  89.47323891,  37.57755845,\n",
              "        12.75594298,  18.09386122,  12.75594298,  37.57755845,\n",
              "        62.51591945,  37.57755845, 100.52591945,  42.86394891,\n",
              "        48.73781945,  15.28447953,  28.53774704,  18.09386122,\n",
              "        10.48035311,  37.57755845,  10.48035311,  18.09386122,\n",
              "        28.53774704,  15.28447953,  48.73781945,  18.09386122,\n",
              "        15.28447953,  21.2154998 ,  15.28447953,  42.86394891,\n",
              "        55.26423891,  42.86394891,  55.26423891,  48.73781945,\n",
              "        42.86394891,  12.75594298,  24.68388374,  15.28447953,\n",
              "        12.75594298,  42.86394891,  12.75594298,  21.2154998 ,\n",
              "        24.68388374,  12.75594298,  42.86394891,  15.28447953,\n",
              "        18.09386122,  24.68388374,  18.09386122,  48.73781945,\n",
              "        48.73781945,  48.73781945,  48.73781945,  55.26423891,\n",
              "        37.57755845,  10.48035311,  21.2154998 ,  12.75594298,\n",
              "        15.28447953,  48.73781945,  15.28447953,  24.68388374,\n",
              "        21.2154998 ,  10.48035311,  37.57755845,  12.75594298,\n",
              "        37.57755845,  48.73781945,  37.57755845,  89.47323891,\n",
              "        42.86394891,  55.26423891,  42.86394891, 100.52591945,\n",
              "        32.81971401,   8.43222921,  18.09386122,  10.48035311,\n",
              "        18.09386122,  55.26423891,  18.09386122,  28.53774704,\n",
              "        18.09386122,   8.43222921,  32.81971401,  10.48035311,\n",
              "        32.81971401,  42.86394891,  32.81971401,  79.52591945,\n",
              "        37.57755845,  62.51591945,  37.57755845,  89.47323891])"
            ]
          },
          "metadata": {},
          "execution_count": 319
        }
      ]
    },
    {
      "cell_type": "code",
      "source": [
        "print(f\"Value Iteration took {end_time - start_time:.4f} seconds\")"
      ],
      "metadata": {
        "colab": {
          "base_uri": "https://localhost:8080/"
        },
        "id": "RgkaHqi2HvJ_",
        "outputId": "f41ae0b2-9675-4df3-b80e-8c112ca9952e"
      },
      "execution_count": 320,
      "outputs": [
        {
          "output_type": "stream",
          "name": "stdout",
          "text": [
            "Value Iteration took 0.5883 seconds\n"
          ]
        }
      ]
    },
    {
      "cell_type": "code",
      "source": [
        "#Policy_Iteration\n",
        "start_time = time.time()\n",
        "optimal_policy, optimal_p_values = policy_iteration(env, max_iters=500, gamma=0.9)\n",
        "end_time = time.time()"
      ],
      "metadata": {
        "colab": {
          "base_uri": "https://localhost:8080/"
        },
        "id": "1vK4HpKKHkiY",
        "outputId": "b3212421-afee-44bc-d5fd-5b241ab990fa"
      },
      "execution_count": 321,
      "outputs": [
        {
          "output_type": "stream",
          "name": "stdout",
          "text": [
            "Converged at 88-th iteration.\n",
            "Converged at 97-th iteration.\n",
            "Converged at 100-th iteration.\n",
            "Converged at 101-th iteration.\n",
            "Converged at 102-th iteration.\n",
            "Converged at 103-th iteration.\n",
            "Converged at 106-th iteration.\n",
            "Converged at 109-th iteration.\n",
            "Converged at 110-th iteration.\n",
            "Converged at 111-th iteration.\n",
            "Converged at 112-th iteration.\n",
            "Converged at 115-th iteration.\n",
            "Converged at 116-th iteration.\n",
            "Converged at 116-th iteration.\n",
            "Converged at 116-th iteration.\n",
            "Converged at 116-th iteration.\n",
            "Converged at 116-th iteration.\n",
            "Policy iteration converged at iteration 16.\n"
          ]
        }
      ]
    },
    {
      "cell_type": "code",
      "source": [
        "optimal_p_values"
      ],
      "metadata": {
        "colab": {
          "base_uri": "https://localhost:8080/"
        },
        "id": "q4B7-X7QHsWH",
        "outputId": "ca4dd307-586d-4ebc-ac88-3acdab03d3c2"
      },
      "execution_count": 322,
      "outputs": [
        {
          "output_type": "execute_result",
          "data": {
            "text/plain": [
              "array([ 89.47323891,  32.81971401,  55.26423891,  37.57755845,\n",
              "         8.43222921,  32.81971401,   8.43222921,  15.28447953,\n",
              "        32.81971401,  18.09386122,  55.26423891,  21.2154998 ,\n",
              "        12.75594298,  18.09386122,  12.75594298,  37.57755845,\n",
              "       100.52591945,  37.57755845,  62.51591945,  42.86394891,\n",
              "        79.52591945,  28.53774704,  48.73781945,  32.81971401,\n",
              "        10.48035311,  37.57755845,  10.48035311,  18.09386122,\n",
              "        28.53774704,  15.28447953,  48.73781945,  18.09386122,\n",
              "        15.28447953,  21.2154998 ,  15.28447953,  42.86394891,\n",
              "        89.47323891,  42.86394891,  55.26423891,  48.73781945,\n",
              "        42.86394891,  12.75594298,  24.68388374,  15.28447953,\n",
              "        24.68388374,  70.57323891,  24.68388374,  37.57755845,\n",
              "        24.68388374,  12.75594298,  42.86394891,  15.28447953,\n",
              "        18.09386122,  24.68388374,  18.09386122,  48.73781945,\n",
              "        48.73781945,  79.52591945,  48.73781945,  55.26423891,\n",
              "        37.57755845,  10.48035311,  21.2154998 ,  12.75594298,\n",
              "        28.53774704,  79.52591945,  28.53774704,  42.86394891,\n",
              "        21.2154998 ,  10.48035311,  37.57755845,  12.75594298,\n",
              "        21.2154998 ,  28.53774704,  21.2154998 ,  55.26423891,\n",
              "        42.86394891,  89.47323891,  42.86394891,  62.51591945,\n",
              "        32.81971401,   8.43222921,  18.09386122,  10.48035311,\n",
              "        32.81971401,  89.47323891,  32.81971401,  48.73781945,\n",
              "        18.09386122,   8.43222921,  32.81971401,  10.48035311,\n",
              "        18.09386122,  24.68388374,  18.09386122,  48.73781945,\n",
              "        37.57755845, 100.52591945,  37.57755845,  55.26423891,\n",
              "        79.52591945,  28.53774704,  48.73781945,  32.81971401,\n",
              "        10.48035311,  37.57755845,  10.48035311,  18.09386122,\n",
              "        37.57755845,  21.2154998 ,  62.51591945,  24.68388374,\n",
              "        15.28447953,  21.2154998 ,  15.28447953,  42.86394891,\n",
              "        89.47323891,  42.86394891,  70.57323891,  48.73781945,\n",
              "        70.57323891,  24.68388374,  42.86394891,  28.53774704,\n",
              "        12.75594298,  42.86394891,  12.75594298,  21.2154998 ,\n",
              "        32.81971401,  18.09386122,  55.26423891,  21.2154998 ,\n",
              "        18.09386122,  24.68388374,  18.09386122,  48.73781945,\n",
              "        79.52591945,  48.73781945,  62.51591945,  55.26423891,\n",
              "        48.73781945,  15.28447953,  28.53774704,  18.09386122,\n",
              "        21.2154998 ,  62.51591945,  21.2154998 ,  32.81971401,\n",
              "        28.53774704,  15.28447953,  48.73781945,  18.09386122,\n",
              "        21.2154998 ,  28.53774704,  21.2154998 ,  55.26423891,\n",
              "        55.26423891,  70.57323891,  55.26423891,  62.51591945,\n",
              "        42.86394891,  12.75594298,  24.68388374,  15.28447953,\n",
              "        24.68388374,  70.57323891,  24.68388374,  37.57755845,\n",
              "        24.68388374,  12.75594298,  42.86394891,  15.28447953,\n",
              "        24.68388374,  32.81971401,  24.68388374,  62.51591945,\n",
              "        48.73781945,  79.52591945,  48.73781945,  70.57323891,\n",
              "        37.57755845,  10.48035311,  21.2154998 ,  12.75594298,\n",
              "        28.53774704,  79.52591945,  28.53774704,  42.86394891,\n",
              "        21.2154998 ,  10.48035311,  37.57755845,  12.75594298,\n",
              "        21.2154998 ,  28.53774704,  21.2154998 ,  55.26423891,\n",
              "        42.86394891,  89.47323891,  42.86394891,  62.51591945,\n",
              "        70.57323891,  24.68388374,  42.86394891,  28.53774704,\n",
              "        12.75594298,  42.86394891,  12.75594298,  21.2154998 ,\n",
              "        42.86394891,  24.68388374,  70.57323891,  28.53774704,\n",
              "        18.09386122,  24.68388374,  18.09386122,  48.73781945,\n",
              "        79.52591945,  48.73781945,  79.52591945,  55.26423891,\n",
              "        62.51591945,  21.2154998 ,  37.57755845,  24.68388374,\n",
              "        15.28447953,  48.73781945,  15.28447953,  24.68388374,\n",
              "        37.57755845,  21.2154998 ,  62.51591945,  24.68388374,\n",
              "        21.2154998 ,  28.53774704,  21.2154998 ,  55.26423891,\n",
              "        70.57323891,  55.26423891,  70.57323891,  62.51591945,\n",
              "        55.26423891,  18.09386122,  32.81971401,  21.2154998 ,\n",
              "        18.09386122,  55.26423891,  18.09386122,  28.53774704,\n",
              "        32.81971401,  18.09386122,  55.26423891,  21.2154998 ,\n",
              "        24.68388374,  32.81971401,  24.68388374,  62.51591945,\n",
              "        62.51591945,  62.51591945,  62.51591945,  70.57323891,\n",
              "        48.73781945,  15.28447953,  28.53774704,  18.09386122,\n",
              "        21.2154998 ,  62.51591945,  21.2154998 ,  32.81971401,\n",
              "        28.53774704,  15.28447953,  48.73781945,  18.09386122,\n",
              "        28.53774704,  37.57755845,  28.53774704,  70.57323891,\n",
              "        55.26423891,  70.57323891,  55.26423891,  79.52591945,\n",
              "        42.86394891,  12.75594298,  24.68388374,  15.28447953,\n",
              "        24.68388374,  70.57323891,  24.68388374,  37.57755845,\n",
              "        24.68388374,  12.75594298,  42.86394891,  15.28447953,\n",
              "        24.68388374,  32.81971401,  24.68388374,  62.51591945,\n",
              "        48.73781945,  79.52591945,  48.73781945,  70.57323891,\n",
              "        62.51591945,  21.2154998 ,  37.57755845,  24.68388374,\n",
              "        10.48035311,  37.57755845,  10.48035311,  18.09386122,\n",
              "        48.73781945,  28.53774704,  79.52591945,  32.81971401,\n",
              "        15.28447953,  21.2154998 ,  15.28447953,  42.86394891,\n",
              "        70.57323891,  42.86394891,  89.47323891,  48.73781945,\n",
              "        55.26423891,  18.09386122,  32.81971401,  21.2154998 ,\n",
              "        12.75594298,  42.86394891,  12.75594298,  21.2154998 ,\n",
              "        32.81971401,  18.09386122,  55.26423891,  21.2154998 ,\n",
              "        18.09386122,  24.68388374,  18.09386122,  48.73781945,\n",
              "        62.51591945,  48.73781945,  62.51591945,  55.26423891,\n",
              "        48.73781945,  15.28447953,  28.53774704,  18.09386122,\n",
              "        15.28447953,  48.73781945,  15.28447953,  24.68388374,\n",
              "        28.53774704,  15.28447953,  48.73781945,  18.09386122,\n",
              "        21.2154998 ,  28.53774704,  21.2154998 ,  55.26423891,\n",
              "        55.26423891,  55.26423891,  55.26423891,  62.51591945,\n",
              "        42.86394891,  12.75594298,  24.68388374,  15.28447953,\n",
              "        18.09386122,  55.26423891,  18.09386122,  28.53774704,\n",
              "        24.68388374,  12.75594298,  42.86394891,  15.28447953,\n",
              "        32.81971401,  42.86394891,  32.81971401,  79.52591945,\n",
              "        48.73781945,  62.51591945,  48.73781945,  89.47323891,\n",
              "        37.57755845,  10.48035311,  21.2154998 ,  12.75594298,\n",
              "        21.2154998 ,  62.51591945,  21.2154998 ,  32.81971401,\n",
              "        21.2154998 ,  10.48035311,  37.57755845,  12.75594298,\n",
              "        28.53774704,  37.57755845,  28.53774704,  70.57323891,\n",
              "        42.86394891,  70.57323891,  42.86394891,  79.52591945,\n",
              "        55.26423891,  18.09386122,  32.81971401,  21.2154998 ,\n",
              "         8.43222921,  32.81971401,   8.43222921,  15.28447953,\n",
              "        55.26423891,  32.81971401,  89.47323891,  37.57755845,\n",
              "        12.75594298,  18.09386122,  12.75594298,  37.57755845,\n",
              "        62.51591945,  37.57755845, 100.52591945,  42.86394891,\n",
              "        48.73781945,  15.28447953,  28.53774704,  18.09386122,\n",
              "        10.48035311,  37.57755845,  10.48035311,  18.09386122,\n",
              "        28.53774704,  15.28447953,  48.73781945,  18.09386122,\n",
              "        15.28447953,  21.2154998 ,  15.28447953,  42.86394891,\n",
              "        55.26423891,  42.86394891,  55.26423891,  48.73781945,\n",
              "        42.86394891,  12.75594298,  24.68388374,  15.28447953,\n",
              "        12.75594298,  42.86394891,  12.75594298,  21.2154998 ,\n",
              "        24.68388374,  12.75594298,  42.86394891,  15.28447953,\n",
              "        18.09386122,  24.68388374,  18.09386122,  48.73781945,\n",
              "        48.73781945,  48.73781945,  48.73781945,  55.26423891,\n",
              "        37.57755845,  10.48035311,  21.2154998 ,  12.75594298,\n",
              "        15.28447953,  48.73781945,  15.28447953,  24.68388374,\n",
              "        21.2154998 ,  10.48035311,  37.57755845,  12.75594298,\n",
              "        37.57755845,  48.73781945,  37.57755845,  89.47323891,\n",
              "        42.86394891,  55.26423891,  42.86394891, 100.52591945,\n",
              "        32.81971401,   8.43222921,  18.09386122,  10.48035311,\n",
              "        18.09386122,  55.26423891,  18.09386122,  28.53774704,\n",
              "        18.09386122,   8.43222921,  32.81971401,  10.48035311,\n",
              "        32.81971401,  42.86394891,  32.81971401,  79.52591945,\n",
              "        37.57755845,  62.51591945,  37.57755845,  89.47323891])"
            ]
          },
          "metadata": {},
          "execution_count": 322
        }
      ]
    },
    {
      "cell_type": "code",
      "source": [
        "print(f\"Policy Iteration took {end_time - start_time:.4f} seconds\")"
      ],
      "metadata": {
        "colab": {
          "base_uri": "https://localhost:8080/"
        },
        "id": "kHGsAHt6HyBQ",
        "outputId": "70c71bca-4f90-4a53-d309-5435d1d46904"
      },
      "execution_count": 323,
      "outputs": [
        {
          "output_type": "stream",
          "name": "stdout",
          "text": [
            "Policy Iteration took 1.1399 seconds\n"
          ]
        }
      ]
    },
    {
      "cell_type": "markdown",
      "source": [
        "## Nhận xét"
      ],
      "metadata": {
        "id": "kLFvzKRJJ_TO"
      }
    },
    {
      "cell_type": "markdown",
      "source": [
        "**Thời gian chạy:**\n",
        "\n",
        "Value Iteration: 0.5883 seconds\n",
        "\n",
        "Policy Iteration: 1.1399 seconds\n",
        "\n",
        "**Nhận xét**\n",
        "\n",
        "Ở toy games này thuật toán Value Iteration chạy nhanh hơn hẳn vì những lý do sau đây:\n",
        "\n",
        "*   Taxi-v3 có tới 500 trạng thái và nhiều hành động, làm bước đánh giá chính sách trong Policy Iteration tốn rất nhiều thời gian vì phải tính giá trị trạng thái cho toàn bộ chính sách hiện tại, lặp nhiều lần mới hội tụ.\n",
        "*   Value Iteration chỉ cập nhật giá trị theo công thức Bellman tối ưu mỗi vòng, không cần đánh giá chính sách đầy đủ, nên mỗi vòng lặp nhanh hơn rất nhiều.\n",
        "\n",
        "\n",
        "\n",
        "\n",
        "\n",
        "\n",
        "\n",
        "\n"
      ],
      "metadata": {
        "id": "GMftCpcAMarb"
      }
    }
  ]
}